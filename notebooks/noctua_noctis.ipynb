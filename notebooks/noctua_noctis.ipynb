# Install dependencies in Colab
!pip install python-nmap pandas matplotlib scapy

from scanner import nmap_scan, data_parser, visualizer

# Run scan
scan_data = nmap_scan.run_scan("192.168.1.0/24")

# Parse
df = data_parser.parse_scan(scan_data)
df.head()

# Export
data_parser.export_results(df, "colab_scan_results")

# Visualize
visualizer.plot_open_ports(df, "colab_ports.png")
